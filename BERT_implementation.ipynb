{
  "nbformat": 4,
  "nbformat_minor": 0,
  "metadata": {
    "colab": {
      "name": "BERT_implementation.ipynb",
      "provenance": [],
      "collapsed_sections": [],
      "mount_file_id": "1fKxAYMHlvCr40LAGg_VLfGG9gBz_tlhL",
      "authorship_tag": "ABX9TyOTIrap3QUKxCnii3lDAGCO",
      "include_colab_link": true
    },
    "kernelspec": {
      "name": "python3",
      "display_name": "Python 3"
    },
    "language_info": {
      "name": "python"
    }
  },
  "cells": [
    {
      "cell_type": "markdown",
      "metadata": {
        "id": "view-in-github",
        "colab_type": "text"
      },
      "source": [
        "<a href=\"https://colab.research.google.com/github/matheus123deimos/Algoritmos_em_Grafos/blob/master/BERT_implementation.ipynb\" target=\"_parent\"><img src=\"https://colab.research.google.com/assets/colab-badge.svg\" alt=\"Open In Colab\"/></a>"
      ]
    },
    {
      "cell_type": "markdown",
      "source": [
        "<img align=\"left\" src=\"https://colab.research.google.com/assets/colab-badge.svg\" alt=\"Open in Colab\" title=\"Open in Google Colaboratory\"></a><p>"
      ],
      "metadata": {
        "id": "RVulF5cIXhPM"
      }
    },
    {
      "cell_type": "code",
      "source": [
        ""
      ],
      "metadata": {
        "id": "H_i1oRvyXi0X"
      },
      "execution_count": null,
      "outputs": []
    }
  ]
}